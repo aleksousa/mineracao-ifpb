{
 "cells": [
  {
   "cell_type": "code",
   "execution_count": 2,
   "metadata": {
    "collapsed": true
   },
   "outputs": [],
   "source": [
    "from pathlib import Path\n",
    "import numpy as np\n",
    "import shutil\n",
    "import os\n",
    "\n",
    "from skimage import color\n",
    "from sklearn import svm\n",
    "from sklearn.utils import Bunch\n",
    "from sklearn.model_selection import GridSearchCV, train_test_split\n",
    "from sklearn.metrics import classification_report\n",
    "\n",
    "from skimage.io import imread\n",
    "from skimage.transform import resize"
   ]
  },
  {
   "cell_type": "code",
   "execution_count": 2,
   "metadata": {
    "pycharm": {
     "name": "#%%\n"
    }
   },
   "outputs": [],
   "source": [
    "def load_image_files(container_path, dimension=(220, 220, 3)):\n",
    "    image_dir = Path(container_path)\n",
    "    folders = [directory for directory in image_dir.iterdir() if directory.is_dir()]\n",
    "    categories = [fo.name for fo in folders]\n",
    "\n",
    "    descr = \"A image classification dataset\"\n",
    "    images = []\n",
    "    flat_data = []\n",
    "    target = []\n",
    "    for i, direc in enumerate(folders):\n",
    "        for file in direc.iterdir():\n",
    "            try:\n",
    "                img = imread(file)\n",
    "\n",
    "                \"\"\"Grey Scale segmentation\n",
    "                gray_scale_image = color.rgb2gray(img)\n",
    "                img_resized = resize(gray_scale_image, dimension, anti_aliasing=True, mode='reflect')\n",
    "                \"\"\"\n",
    "\n",
    "                \"\"\" Edges Canny segmentation\n",
    "                edges = feature.canny(gray_scale_image, sigma=3)\n",
    "                image = img_as_float(edges)\n",
    "                \"\"\"\n",
    "\n",
    "                gray_scale_image = color.rgb2gray(img)\n",
    "                img_resized = resize(gray_scale_image, dimension, anti_aliasing=True, mode='reflect')\n",
    "                flat_data.append(img_resized.flatten())\n",
    "                images.append(img_resized)\n",
    "                target.append(direc.name.lower())\n",
    "            except:\n",
    "                if not os.path.exists(\"errors/\" + direc.name):\n",
    "                    os.makedirs(\"errors/\" + direc.name)\n",
    "                shutil.move(file, \"errors/\" + direc.name + \"/\" + file.name)\n",
    "\n",
    "    flat_data = np.array(flat_data)\n",
    "    target = np.array(target)\n",
    "    images = np.array(images)\n",
    "\n",
    "    return Bunch(data=flat_data,\n",
    "                 target=target,\n",
    "                 target_names=categories,\n",
    "                 images=images,\n",
    "                 DESCR=descr)"
   ]
  },
  {
   "cell_type": "code",
   "execution_count": 3,
   "metadata": {
    "pycharm": {
     "name": "#%%\n"
    }
   },
   "outputs": [],
   "source": [
    "image_dataset = load_image_files(\"images/\")"
   ]
  },
  {
   "cell_type": "code",
   "execution_count": 4,
   "metadata": {
    "pycharm": {
     "name": "#%%\n"
    }
   },
   "outputs": [],
   "source": [
    "n_samples = len(image_dataset.images)\n",
    "X = image_dataset.images.reshape((n_samples, -1))\n",
    "y = image_dataset.target\n",
    "\n",
    "X_train, X_test, y_train, y_test = train_test_split(\n",
    "    X, y, test_size=0.33, random_state=0)"
   ]
  },
  {
   "cell_type": "code",
   "execution_count": null,
   "metadata": {
    "pycharm": {
     "is_executing": true,
     "name": "#%%\n"
    }
   },
   "outputs": [],
   "source": [
    "param_grid = [{'kernel': ['rbf'], 'gamma': [0.001, 0.0001], 'C': [1, 10, 100, 1000]},\n",
    "                {'kernel': ['linear'], 'C': [1, 10, 100, 1000]}]\n",
    "\n",
    "svc = svm.SVC()\n",
    "clf = GridSearchCV(svc,\n",
    "                   param_grid,\n",
    "                   cv=3,\n",
    "                   scoring='accuracy')\n",
    "\n",
    "clf.fit(X_train, y_train)\n",
    "print(\"Etapa 3 Finalizada\")\n",
    "\n",
    "print(\"Best parameters set found on development set:\")\n",
    "print(\"---------------------------------------------\")\n",
    "print(clf.best_params_)\n",
    "print()\n",
    "print(\"Detailed classification report:\")\n",
    "print(\"---------------------------------------------\")\n",
    "y_true, y_pred = y_test, clf.predict(X_test)\n",
    "print(classification_report(y_true, y_pred))"
   ]
  }
 ],
 "metadata": {
  "kernelspec": {
   "display_name": "PyCharm (mineracao-ifpb)",
   "language": "python",
   "name": "pycharm-557f7f1c"
  },
  "language_info": {
   "codemirror_mode": {
    "name": "ipython",
    "version": 3
   },
   "file_extension": ".py",
   "mimetype": "text/x-python",
   "name": "python",
   "nbconvert_exporter": "python",
   "pygments_lexer": "ipython3",
   "version": "3.8.5"
  }
 },
 "nbformat": 4,
 "nbformat_minor": 1
}